{
 "cells": [
  {
   "cell_type": "markdown",
   "id": "9ae044c1",
   "metadata": {},
   "source": [
    "# Đề Thực hành 2 Phương pháp toán cho Trí tuệ nhân tạo.\n",
    "## Khoa CNTT - trường ĐH KHTN TPHCM."
   ]
  },
  {
   "cell_type": "markdown",
   "id": "ec621c6a",
   "metadata": {},
   "source": [
    "## Bài 1. (3 điểm)\n",
    "Cho hai ma trận sau đây"
   ]
  },
  {
   "cell_type": "markdown",
   "id": "a0cec2e0",
   "metadata": {},
   "source": [
    "$$A=\\left( \\begin{matrix}\n",
    "   1 & 0 & 2 & a  \\\\\n",
    "   1 & 2 & 4 & b  \\\\\n",
    "   -1 & 2 & 0 & c  \\\\\n",
    "   3 & -1 & 3 & d  \\\\\n",
    "\\end{matrix} \\right), B=\\left( \\begin{matrix}\n",
    "   4 & 5 & 1 & -2  \\\\\n",
    "   0 & 1 & 2 & 1  \\\\\n",
    "   0 & -2 & -3 & 1  \\\\\n",
    "   a & b & c & d  \\\\\n",
    "\\end{matrix} \\right)$$\n",
    "trong đó $a,b,c,d$ là $4$ số cuối trong $MSSV$ (viết theo thứ tự từ trái sang phải). Khi làm bài, $SV$ chủ động thay các mã số đó vào đề bài trên."
   ]
  },
  {
   "cell_type": "markdown",
   "id": "4e90594a",
   "metadata": {},
   "source": [
    "Bằng cách dùng các thư viện có hỗ trợ sẵn của Python, hãy thực hiện các yêu cầu sau:\n",
    "* a) Tính $B+A$, $B{{A}^{T}}$, $2A-3B$.\n",
    "* b) Tính $\\det (A)$ , $\\det ({{B}^{T}}+2I)$, $rank(AB).$ \n",
    "* c) Tính norm của vector hàng $1$ của $A,$ tính norm của vector cột $3$ của $B,$ tính tổng các phần tử trên đường chéo của $A.$\n",
    "* d) Kiểm tra công thức ${{(AB)}^{T}}={{B}^{T}}{{A}^{T}}$ dựa trên hai ma trận đã cho.\n",
    "* e) Sinh ngẫu nhiên một ma trận $C$ có kích thước $4\\times 4$ với các phần tử là số nguyên trong miền từ $-9\\to 9$, từ đó in ra các phần tử nằm phía dưới đường chéo của $A+BC.$ \n",
    "* f) Tìm ma trận $C$ thỏa mãn $AC - C = B$. *Gợi ý:* $C = CI = IC$ với $I$ là ma trận đơn vị."
   ]
  },
  {
   "cell_type": "code",
   "execution_count": 1,
   "id": "2b658fa8",
   "metadata": {},
   "outputs": [
    {
     "data": {
      "text/plain": [
       "(array([[ 1,  0,  2,  0],\n",
       "        [ 1,  2,  4,  2],\n",
       "        [-1,  2,  0,  9],\n",
       "        [ 3, -1,  3,  1]]),\n",
       " array([[ 4,  5,  1, -2],\n",
       "        [ 0,  1,  2,  1],\n",
       "        [ 0, -2, -3,  1],\n",
       "        [ 0,  2,  9,  1]]))"
      ]
     },
     "execution_count": 1,
     "metadata": {},
     "output_type": "execute_result"
    }
   ],
   "source": [
    "#CODE HERE (mỗi câu hỏi làm trên một cell riêng)\n",
    "#Tao du lieu 21120291 a=0 b = 2 c= 9 d = 1\n",
    "import numpy as np\n",
    "A = np.array([1,0,2,0,1,2,4,2,-1,2,0,9,3,-1,3,1]).reshape(4,4)\n",
    "B = np.array([4,5,1,-2,0,1,2,1,0,-2,-3,1,0,2,9,1]).reshape(4,4)\n",
    "A,B"
   ]
  },
  {
   "cell_type": "markdown",
   "id": "4e35e008",
   "metadata": {},
   "source": [
    "#### a. Tính 𝐵$+$𝐴, 𝐵𝐴$^T$,  2𝐴$−$3𝐵"
   ]
  },
  {
   "cell_type": "code",
   "execution_count": 2,
   "id": "38b6cd49",
   "metadata": {},
   "outputs": [
    {
     "data": {
      "text/plain": [
       "array([[ 5,  5,  3, -2],\n",
       "       [ 1,  3,  6,  3],\n",
       "       [-1,  0, -3, 10],\n",
       "       [ 3,  1, 12,  2]])"
      ]
     },
     "execution_count": 2,
     "metadata": {},
     "output_type": "execute_result"
    }
   ],
   "source": [
    "B+A"
   ]
  },
  {
   "cell_type": "code",
   "execution_count": 3,
   "id": "e9fe9f16",
   "metadata": {},
   "outputs": [
    {
     "data": {
      "text/plain": [
       "array([[  6,  14, -12,   8],\n",
       "       [  4,  12,  11,   6],\n",
       "       [ -6, -14,   5,  -6],\n",
       "       [ 18,  42,  13,  26]])"
      ]
     },
     "execution_count": 3,
     "metadata": {},
     "output_type": "execute_result"
    }
   ],
   "source": [
    "B.dot(A.T)"
   ]
  },
  {
   "cell_type": "code",
   "execution_count": 4,
   "id": "4e83c8b0",
   "metadata": {},
   "outputs": [
    {
     "data": {
      "text/plain": [
       "array([[-10, -15,   1,   6],\n",
       "       [  2,   1,   2,   1],\n",
       "       [ -2,  10,   9,  15],\n",
       "       [  6,  -8, -21,  -1]])"
      ]
     },
     "execution_count": 4,
     "metadata": {},
     "output_type": "execute_result"
    }
   ],
   "source": [
    "2*A-3*B"
   ]
  },
  {
   "cell_type": "markdown",
   "id": "fa81555b",
   "metadata": {},
   "source": [
    "#### b. Tính det(𝐴) , det(𝐵$^T$+2𝐼),  𝑟𝑎𝑛𝑘(𝐴𝐵). "
   ]
  },
  {
   "cell_type": "code",
   "execution_count": 5,
   "id": "c3e9cc00",
   "metadata": {},
   "outputs": [
    {
     "data": {
      "text/plain": [
       "28.0"
      ]
     },
     "execution_count": 5,
     "metadata": {},
     "output_type": "execute_result"
    }
   ],
   "source": [
    "#Su dung linalg of scipy\n",
    "from scipy import linalg\n",
    "linalg.det(A)"
   ]
  },
  {
   "cell_type": "code",
   "execution_count": 6,
   "id": "b5e5a968",
   "metadata": {},
   "outputs": [
    {
     "data": {
      "text/plain": [
       "-215.99999999999997"
      ]
     },
     "execution_count": 6,
     "metadata": {},
     "output_type": "execute_result"
    }
   ],
   "source": [
    "linalg.det(B.T+2*np.identity(4))"
   ]
  },
  {
   "cell_type": "code",
   "execution_count": 7,
   "id": "622841d6",
   "metadata": {},
   "outputs": [
    {
     "data": {
      "text/plain": [
       "4"
      ]
     },
     "execution_count": 7,
     "metadata": {},
     "output_type": "execute_result"
    }
   ],
   "source": [
    "np.linalg.matrix_rank(A.dot(B))"
   ]
  },
  {
   "cell_type": "markdown",
   "id": "5361c532",
   "metadata": {},
   "source": [
    "#### c. Tính norm của vector hàng 1 của 𝐴, tính norm của vector cột 3 của 𝐵, tính tổng các phần tử trên đường chéo của  𝐴. "
   ]
  },
  {
   "cell_type": "code",
   "execution_count": 8,
   "id": "19ce5529",
   "metadata": {},
   "outputs": [
    {
     "data": {
      "text/plain": [
       "2.23606797749979"
      ]
     },
     "execution_count": 8,
     "metadata": {},
     "output_type": "execute_result"
    }
   ],
   "source": [
    "## Hàng 1, A[1,i], Hàng thứ 1: A[0,i]\n",
    "linalg.norm(A[0,:])"
   ]
  },
  {
   "cell_type": "code",
   "execution_count": 9,
   "id": "ef4dcb11",
   "metadata": {},
   "outputs": [
    {
     "data": {
      "text/plain": [
       "9.746794344808963"
      ]
     },
     "execution_count": 9,
     "metadata": {},
     "output_type": "execute_result"
    }
   ],
   "source": [
    "linalg.norm(B[:,2])"
   ]
  },
  {
   "cell_type": "code",
   "execution_count": 10,
   "id": "37a517bc",
   "metadata": {},
   "outputs": [
    {
     "data": {
      "text/plain": [
       "4"
      ]
     },
     "execution_count": 10,
     "metadata": {},
     "output_type": "execute_result"
    }
   ],
   "source": [
    "sum(np.diagonal(A))"
   ]
  },
  {
   "cell_type": "markdown",
   "id": "cada4bf9",
   "metadata": {},
   "source": [
    "#### d. Kiểm tra công thức  (𝐴𝐵)$^T$=𝐵$^T$𝐴$^T$  dựa trên hai ma trận đã cho."
   ]
  },
  {
   "cell_type": "code",
   "execution_count": 11,
   "id": "e7d50686",
   "metadata": {},
   "outputs": [
    {
     "name": "stdout",
     "output_type": "stream",
     "text": [
      "Hai ma tran tren bang nhau\n"
     ]
    }
   ],
   "source": [
    "vt = (A.dot(B)).T\n",
    "vp = B.T.dot(A.T)\n",
    "if (np.array_equal(vt,vp)):\n",
    "    print(\"Hai ma tran tren bang nhau\")\n",
    "else:\n",
    "    print(\"Hai ma tran tren khong bang nhau\")"
   ]
  },
  {
   "cell_type": "markdown",
   "id": "091c9ec8",
   "metadata": {},
   "source": [
    "#### e. Sinh ngẫu nhiên một ma trận  𝐶  có kích thước  4×4  với các phần tử là số nguyên trong miền từ  −9$→$9 , từ đó in ra các phần tử nằm phía dưới đường chéo của  𝐴$+$𝐵𝐶."
   ]
  },
  {
   "cell_type": "code",
   "execution_count": 12,
   "id": "726a1a26",
   "metadata": {},
   "outputs": [
    {
     "data": {
      "text/plain": [
       "array([[-7, -4, -2,  3],\n",
       "       [-4,  5, -1,  8],\n",
       "       [ 3,  8,  7, -3],\n",
       "       [ 3, -3,  2,  2]])"
      ]
     },
     "execution_count": 12,
     "metadata": {},
     "output_type": "execute_result"
    }
   ],
   "source": [
    "C = np.random.randint(-9,9,16).reshape(4,4)\n",
    "C"
   ]
  },
  {
   "cell_type": "code",
   "execution_count": 13,
   "id": "3f523638",
   "metadata": {},
   "outputs": [
    {
     "data": {
      "text/plain": [
       "array([[-50,  23,  -8,  45],\n",
       "       [  6,  20,  19,   6],\n",
       "       [  1, -35, -17,   4],\n",
       "       [ 25,  78,  66,  -8]])"
      ]
     },
     "execution_count": 13,
     "metadata": {},
     "output_type": "execute_result"
    }
   ],
   "source": [
    "E1_Matrix = A+B.dot(C)\n",
    "E1_Matrix"
   ]
  },
  {
   "cell_type": "code",
   "execution_count": 14,
   "id": "3575a0f8",
   "metadata": {},
   "outputs": [
    {
     "data": {
      "text/plain": [
       "array([  6,   1, -35,  25,  78,  66])"
      ]
     },
     "execution_count": 14,
     "metadata": {},
     "output_type": "execute_result"
    }
   ],
   "source": [
    "E1_Matrix[np.tril_indices(E1_Matrix.shape[0],k=-1)]"
   ]
  },
  {
   "cell_type": "markdown",
   "id": "0f81515d",
   "metadata": {},
   "source": [
    "#### f) Tìm ma trận  𝐶  thỏa mãn  𝐴𝐶$−$𝐶$=$𝐵 . Gợi ý:  𝐶$=$𝐶𝐼$=$𝐼𝐶  với  𝐼  là ma trận đơn vị."
   ]
  },
  {
   "cell_type": "code",
   "execution_count": 15,
   "id": "e1f10f9a",
   "metadata": {},
   "outputs": [
    {
     "data": {
      "text/plain": [
       "array([[-11.94230769,   6.96153846,  -1.76923077,  -1.57692308],\n",
       "       [ -0.26923077,   0.84615385,  -0.07692308,  -0.30769231],\n",
       "       [  1.90384615,  -2.26923077,   0.61538462,   0.96153846],\n",
       "       [  1.67307692,   1.88461538,  -0.30769231,  -0.73076923]])"
      ]
     },
     "execution_count": 15,
     "metadata": {},
     "output_type": "execute_result"
    }
   ],
   "source": [
    "#AC - IC = B\n",
    "#(A-I)C = B\n",
    "#C = B.dot(linalg.inv(A-I))\n",
    "\n",
    "I4 = np.identity(4)\n",
    "C = B.dot(linalg.inv(A-I4))\n",
    "C"
   ]
  },
  {
   "cell_type": "markdown",
   "id": "1ed06d90",
   "metadata": {},
   "source": [
    "### Bài 2. (2đ)\n",
    "\n",
    "Trong lĩnh vực xử lý ngôn ngữ tự nhiên $NLP$, với danh sách từ vựng $\\mathcal{L}$ độ dài $\\ell$, mỗi câu văn có thể được mô tả bởi 1 vector $v\\in\\mathbb{R}^{\\ell}$ mà thành phần thứ $i$ cho biết số lần mà từ $d_i \\in \\mathcal{L}$ xuất hiện trong câu, còn được gọi là tọa độ của câu văn trong $\\mathcal{L}$. Xét các câu văn sau đây:\n",
    "> * $D_1$: *tôi là An*.\n",
    "> * $D_2$: *tôi thích đi xem phim*.\n",
    "> * $D_3$: *An rất thích xem tôi du lịch*.\n",
    "> * $D_4$: *tôi rất rất thích đi du lịch, An là tên tôi*.\n",
    "\n",
    "Giả sử rằng $\\mathcal{L} =$ (*An, du, đi, là, lịch, phim, rất, tên, thích, tôi, xem*) với $|\\mathcal{L}| = 11$ thì chẳng hạn câu văn $D_0$ = *tôi rất thích An An* sẽ có tọa độ là $$d_0 = (2,0,0,0,0,0,1,0,1,1,0).$$\n",
    "- **a)** Viết toạ độ của các câu văn $D_1,D_2,D_3,D_4$ ở dạng vector trong không gian $11$ chiều ứng với từ vựng $\\mathcal{L}$.\n",
    "- **b)** Tính khoảng cách Euclid đôi một giữa các câu văn trên sử dụng thư viện *numpy.linalg*.\n",
    "- **c)** Ở trên ta dùng thư viện, vậy hãy cho biết công thức Toán học cụ thể để tính khoảng cách Euclid giữa hai vector bên dưới là gì:\n",
    "$$d = (x_1,x_2,...,x_{11}) \\text{ và } d' = (y_1,y_2,...,y_{11})?$$"
   ]
  },
  {
   "cell_type": "code",
   "execution_count": 16,
   "id": "51315a1f",
   "metadata": {},
   "outputs": [
    {
     "name": "stdout",
     "output_type": "stream",
     "text": [
      "Khoảng cách giữa d1 & d2 là 2.45\n",
      "Khoảng cách giữa d1 & d3 là 2.45\n",
      "Khoảng cách giữa d1 & d4 là 3.16\n",
      "Khoảng cách giữa d2 & d3 là 2.45\n",
      "Khoảng cách giữa d2 & d4 là 3.46\n",
      "Khoảng cách giữa d3 & d4 là 2.45\n"
     ]
    }
   ],
   "source": [
    "#Gợi ý code mẫu\n",
    "import numpy as np\n",
    "d1 = np.array([1,0,0,1,0,0,0,0,0,1,0])\n",
    "d2 = np.array([0,0,1,0,0,1,0,0,1,1,1])\n",
    "d3 = np.array([1,1,0,0,1,0,1,0,1,1,1])\n",
    "d4 = np.array([1,1,1,1,1,0,2,1,1,2,0])\n",
    "D = np.vstack([d1,d2,d3,d4])\n",
    "l = len(D)\n",
    "for i in range(l-1):\n",
    "    for j in range(i+1,l):\n",
    "        print('Khoảng cách giữa d{} & d{} là'.format(i+1,j+1), round(np.linalg.norm(D[i]-D[j]), 2))"
   ]
  },
  {
   "cell_type": "markdown",
   "id": "d7648ba5",
   "metadata": {},
   "source": [
    "#### Công thức toán học cụ thể tính toảng khoảng cách Euclid hai vector\n",
    "- $d_1 = (𝑥_1,𝑥_2,...,𝑥_{11})$\n",
    "- $d_2= (𝑦_1,𝑦_2,...,𝑦_{11})$  \n",
    "$\\sqrt{(x_1-y_1)^2+(x_2-y_2)^2+...+(x_{11}-y_{11})^2}$"
   ]
  },
  {
   "cell_type": "markdown",
   "id": "743864c9",
   "metadata": {},
   "source": [
    "## Bài 3. (1.5 điểm) Trong hai chọn một.\n",
    "3.1) Kết quả học tập của một nhóm sinh viên ở môn **Phương pháp toán cho Trí tuệ nhân tạo** được cho trong bảng bên dưới. Sinh viên chỉ qua môn nếu điểm tổng kết không dưới $5.0$."
   ]
  },
  {
   "cell_type": "markdown",
   "id": "b2fe4308",
   "metadata": {},
   "source": [
    "|Sinh viên | BT cá nhân  | Báo cáo   | Giữa kỳ   | Cuối kỳ   |\n",
    "|----------|-------------|-----------|-----------|-----------|\n",
    "|  A       |     8       |    7      |    6      |    4      |\n",
    "|  B       |     0       |    7      |    5      |    6      |\n",
    "|  C       |     3       |    9      |    4      |    5      |\n",
    "|  D       |     7       |    8      |    3      |    5      |\n",
    "|  E       |     10      |    10     |    10     |    9      |\n",
    "|  F       |     6       |    0      |    6      |    5      |"
   ]
  },
  {
   "cell_type": "markdown",
   "id": "9a17d697",
   "metadata": {},
   "source": [
    "GV đang cân nhắc cho các điểm theo trọng số nào để có lợi cho các sinh viên nhất (ít người rớt nhất), có $3$ phương án:\n",
    "* $0.2, 0.2, 0.2, 0.4$.\n",
    "* $0.1, 0.1, 0.3, 0.5.$\n",
    "* $0.1, 0.2, 0.3, 0.4.$\n",
    "\n",
    "Hãy giúp giảng viên lựa chọn phương án thích hợp."
   ]
  },
  {
   "cell_type": "code",
   "execution_count": 17,
   "id": "e63c0a39",
   "metadata": {},
   "outputs": [
    {
     "name": "stdout",
     "output_type": "stream",
     "text": [
      "Giao vien nen chon phuong an (it nguoi rot nhat)\n"
     ]
    },
    {
     "data": {
      "text/plain": [
       "array([0.1, 0.2, 0.3, 0.4])"
      ]
     },
     "execution_count": 17,
     "metadata": {},
     "output_type": "execute_result"
    }
   ],
   "source": [
    "#CODE HERE\n",
    "#data\n",
    "data_3 = np.array([8,7,6,4,0,7,5,6,3,9,4,5,7,8,3,5,10,10,10,9,6,0,6,5]).reshape(6,4)\n",
    "phuongan_3 = np.array([0.2,0.2,0.2,0.4,0.1,0.1,0.3,0.5,0.1,0.2,0.3,0.4]).reshape(3,4)\n",
    "\n",
    "#Ket qua diem trung binh sinh vien theo 3 cot diem\n",
    "result  = data_3.dot(phuongan_3.T)\n",
    "\n",
    "#Xu ly\n",
    "result[result<5] = 0\n",
    "so_luong_rot = result.shape[0] - np.count_nonzero(result,axis=0)\n",
    "\n",
    "#In ket qua can tim\n",
    "print(\"Giao vien nen chon phuong an (it nguoi rot nhat)\");\n",
    "phuongan_3[so_luong_rot.argmin()]"
   ]
  },
  {
   "cell_type": "markdown",
   "id": "4e105e1e",
   "metadata": {},
   "source": [
    "3.2) Cho bài toán sau, hãy bằng cách lập hệ phương trình thích hợp và giải bằng Python theo **ít nhất $2$ cách khác nhau**: <br>\n",
    "\n",
    "Trong đợt dịch cúm Covid-19, sinh viên của một trường Đại học có nhận được trợ cấp từ nhà trường, từ địa phương và từ hội cựu sinh viên. Khảo sát trong một lớp học có ba nhóm: đang ở quê, đang ở trọ tại TPHCM và đang ở KTX trường. Biết rằng mức tiền hỗ trợ tiền:\n",
    "* Của trường cho các nhóm trên lần lượt là: $200k, 600k, 400k$; \n",
    "* Của địa phương là: $500k, 500k, 500k$; \n",
    "* Của hội cựu sinh viên là: $0k, 700k, 300k.$\n",
    "\n",
    "Biết rằng tổng tiền mà sinh viên được từ nhà trường là $37$ triệu, từ địa phương là $50$ triệu và từ hội cựu sinh viên là $29$ triệu. Tính tổng sinh viên của lớp."
   ]
  },
  {
   "cell_type": "markdown",
   "id": "6a4196c4",
   "metadata": {},
   "source": [
    "#### Diễn giải\n",
    "Ta gọi $x1$,$x2$,$x3$ lần lượt là số sinh viên ở quê, ở trọ, và ở KTX.  \n",
    "Ta sẽ được hệ phương trình tuyến tính sau:\n",
    "$$2x1 + 6x2 + 4x3 = 37$$\n",
    "$$5x1 + 5x2 + 5x3 = 50$$\n",
    "$$      7x2 + 3x3 = 29$$\n",
    "Ta sẽ giải theo hai cách:  \n",
    "- Dùng thư viện\n",
    "- Dùng công thức đại số"
   ]
  },
  {
   "cell_type": "markdown",
   "id": "6a0f91d6",
   "metadata": {},
   "source": [
    "#### Dùng thư viện"
   ]
  },
  {
   "cell_type": "code",
   "execution_count": 18,
   "id": "630494db",
   "metadata": {},
   "outputs": [
    {
     "name": "stdout",
     "output_type": "stream",
     "text": [
      "Tong so hoc sinh la:  100\n"
     ]
    }
   ],
   "source": [
    "#Ax = b\n",
    "import math\n",
    "A = np.array([[2,6,4],[5,5,5],[0,7,3]])\n",
    "b = np.array([370,500,290])\n",
    "print(\"Tong so hoc sinh la: \",round(sum(linalg.solve(A,b))))"
   ]
  },
  {
   "cell_type": "markdown",
   "id": "c3caa173",
   "metadata": {},
   "source": [
    "#### Dùng công thức đại số"
   ]
  },
  {
   "cell_type": "code",
   "execution_count": 19,
   "id": "870e26ac",
   "metadata": {},
   "outputs": [
    {
     "name": "stdout",
     "output_type": "stream",
     "text": [
      "Tong so hoc sinh la:  100\n"
     ]
    }
   ],
   "source": [
    "#Ax = b\n",
    "A = np.array([[2,6,4],[5,5,5],[0,7,3]])\n",
    "b = np.array([370,500,290])\n",
    "\n",
    "##\n",
    "x = linalg.inv(A).dot(b)\n",
    "print(\"Tong so hoc sinh la: \",round(sum(x)))"
   ]
  },
  {
   "cell_type": "markdown",
   "id": "52f80afd",
   "metadata": {},
   "source": [
    "## Bài 4. (2 điểm)\n",
    "Một thí nghiệm xét mối liên hệ giữa độ giảm trọng lượng của hợp chất ($y$, tính bằng gam) và khoảng thời gian mà hợp chất tiếp xúc với không khí ($x$, tính bằng năm), trong đó số âm có thể hiểu là giai đoạn xử lý nguyên liệu, trước khi điều chế ra hợp chất. Ta có bảng dữ liệu như sau:"
   ]
  },
  {
   "cell_type": "markdown",
   "id": "700d63d7",
   "metadata": {},
   "source": [
    "| $x$    | $-2$ | $0$   | $1$  | $2$  | $4$   |\n",
    "|--------|------|-------|------|------|-------|\n",
    "| $y$    | $-1$ | $1.5$ | $3.1$| $6.3$| $11.1$| "
   ]
  },
  {
   "cell_type": "markdown",
   "id": "143fd75c",
   "metadata": {},
   "source": [
    "- **a)** Giả sử $x,y$ thỏa mãn mô hình $y=a+bx+c \\ln(x^2+1).$ Hãy sử dụng phương pháp bình phương cực tiểu, ước lượng các tham số $a,b,c.$ <br>\n",
    "- **b)** Vẽ đồ thị cho dữ liệu. Sử dụng kết quả trên để dự đoán $y$ khi $x = 6.5$. <br>\n",
    "- **c)** Hỏi có nên dùng mô hình $y=a+bx+c \\ln(x)$ hoặc $y = a+bx+\\frac{c}{x}$ để xấp xỉ dữ liệu trên không? Vì sao?"
   ]
  },
  {
   "cell_type": "code",
   "execution_count": 20,
   "id": "932fcf59",
   "metadata": {},
   "outputs": [],
   "source": [
    "import sympy as sp\n",
    "from sympy import *\n",
    "x = Symbol('x')\n",
    "x3 = ln(x**2+1)\n",
    "data_x = np.array([-2,0,1,2,4])"
   ]
  },
  {
   "cell_type": "code",
   "execution_count": 21,
   "id": "f10d4a30",
   "metadata": {},
   "outputs": [
    {
     "data": {
      "image/png": "[encoded data removed]",
      "text/plain": [
       "<Figure size 640x480 with 1 Axes>"
      ]
     },
     "metadata": {},
     "output_type": "display_data"
    }
   ],
   "source": [
    "# Gợi ý code mẫu\n",
    "A = np.array([[1,x.subs({x:data_x[0]}),x3.subs({x:data_x[0]})],[1,x.subs({x:data_x[1]}),x3.subs({x:data_x[1]})],\n",
    "              [1,x.subs({x:data_x[2]}),x3.subs({x:data_x[2]})],[1,x.subs({x:data_x[3]}),x3.subs({x:data_x[3]})],\n",
    "              [1,x.subs({x:data_x[4]}),x3.subs({x:data_x[4]})]])\n",
    "b = np.array([-1,1.5,3.1,6.3,11.1])\n",
    "#dùng công thức tính ma trận giả nghịch đảo:\n",
    "A_T_A = np.float64(A.T.dot(A))\n",
    "np.linalg.det(A_T_A) #!=0 nen dung cong thuc giai nhanh\n",
    "x_p = np.float64(np.linalg.inv(A_T_A).dot(A.T).dot(b))\n",
    "x_p\n",
    "#code để vẽ đồ thị\n",
    "from matplotlib import pyplot as plt\n",
    "plt.plot(data_x,b, marker=\".\", color=\"red\")\n",
    "#plot các điểm khác tương tự\n",
    "x_predict = data_x\n",
    "y_predict = x_p[0]+x_p[1]*data_x+x_p[2]*np.log(data_x**2+1)\n",
    "plt.plot(x_predict,y_predict, marker=\".\", color = \"green\")\n",
    "\n",
    "plt.title(\"Đồ thị biểu thị dữ đoán dữ liệu\")\n",
    "plt.legend([\"Dữ liệu gốc\",\"Dữ liệu dự đoán\"])\n",
    "\n",
    "plt.show()"
   ]
  },
  {
   "cell_type": "markdown",
   "id": "3c7bf1b1",
   "metadata": {},
   "source": [
    "#### Dự đoán khi $x = 6.5$"
   ]
  },
  {
   "cell_type": "code",
   "execution_count": 22,
   "id": "3a2427ae",
   "metadata": {},
   "outputs": [
    {
     "data": {
      "text/plain": [
       "16.393051683115562"
      ]
     },
     "execution_count": 22,
     "metadata": {},
     "output_type": "execute_result"
    }
   ],
   "source": [
    "x_predict_b = 6.5\n",
    "y_predict_b = x_p[0]+x_p[1]*x_predict_b+x_p[2]*np.log(x_predict_b**2+1)\n",
    "y_predict_b"
   ]
  },
  {
   "cell_type": "markdown",
   "id": "b98b04a7",
   "metadata": {},
   "source": [
    "**c)** Có nên dùng mô hình $y=a+bx+c \\ln(x)$ hoặc $y = a+bx+\\frac{c}{x}$ để xấp xỉ dữ liệu trên không?  \n",
    "**Trả lời** Không, vì hai mô hình trên đều không xác định tại giá trị $x = 0$."
   ]
  },
  {
   "cell_type": "markdown",
   "id": "e68ef7a4",
   "metadata": {},
   "source": [
    "## Bài 5. (2 điểm)\n",
    "Cho ma trận: $M=\\left( \\begin{matrix}\n",
    "   2 & a & -2  \\\\\n",
    "   0 & 3 & 0  \\\\\n",
    "   0 & 0 & 3  \\\\\n",
    "\\end{matrix} \\right)$ trong đó $a$ là tham số thực.\n",
    "* a) Cho $a=1,$ hãy chéo hóa ma trận này để thu được ma trận $D,P$ trong đó $D = P^{-1}AP$ và $D$ là ma trận đường chéo bằng cách dùng thư viện của Python (diagonalize) và kiểm chứng lại bằng việc tính toán cụ thể từng bước để tìm đa thức đặc trưng và các giá trị riêng của $M$. Từ đó hãy nêu cách tính ${{M}^{99}}$.\n",
    "* b) Ma trận chéo hóa $D$ của $M$ luôn không đổi với mọi giá trị $a$ tùy ý, hãy kiểm chứng với vài giá trị cụ thể của $a$ và giải thích lý do.\n"
   ]
  },
  {
   "cell_type": "code",
   "execution_count": 23,
   "id": "738e2b5f",
   "metadata": {},
   "outputs": [],
   "source": [
    "# pip install sympy"
   ]
  },
  {
   "cell_type": "markdown",
   "id": "eab812a8",
   "metadata": {},
   "source": [
    "#### Dùng thư viện diagonalize của sympy"
   ]
  },
  {
   "cell_type": "code",
   "execution_count": 24,
   "id": "12e249ec",
   "metadata": {},
   "outputs": [
    {
     "data": {
      "text/plain": [
       "(Matrix([\n",
       " [1, 1, -2],\n",
       " [0, 1,  0],\n",
       " [0, 0,  1]]),\n",
       " Matrix([\n",
       " [2, 0, 0],\n",
       " [0, 3, 0],\n",
       " [0, 0, 3]]))"
      ]
     },
     "execution_count": 24,
     "metadata": {},
     "output_type": "execute_result"
    }
   ],
   "source": [
    "#D = P(-1)MP\n",
    "#Khoi tao\n",
    "import sympy as sp\n",
    "from sympy import *\n",
    "M = Matrix([[2,1,-2],[0,3,0],[0,0,3]])\n",
    "P, D = M.diagonalize()\n",
    "P,D"
   ]
  },
  {
   "cell_type": "markdown",
   "id": "add323f4",
   "metadata": {},
   "source": [
    "#### Tính toán không dùng trực thư viện ra P,D  \n",
    "- Ta dùng cách 1 chéo hóa ma trận  \n",
    "- Từ đa thức đặc trưng, tìm trị riêng, vector riêng\n",
    "- Sau đó, với mỗi trị riêng, ta ghép vector riêng lại, tạo thành P\n",
    "- Tương ứng, ta ghép các trị riêng thành ma trận đường chéo, ta được D"
   ]
  },
  {
   "cell_type": "code",
   "execution_count": 25,
   "id": "6d7a3a7b",
   "metadata": {},
   "outputs": [
    {
     "data": {
      "text/plain": [
       "(Matrix([\n",
       " [1, -2, 1],\n",
       " [0,  0, 1],\n",
       " [0,  1, 0]]),\n",
       " Matrix([\n",
       " [2, 0, 0],\n",
       " [0, 3, 0],\n",
       " [0, 0, 3]]))"
      ]
     },
     "execution_count": 25,
     "metadata": {},
     "output_type": "execute_result"
    }
   ],
   "source": [
    "M = Matrix([[2,1,-2],[0,3,0],[0,0,3]])\n",
    "\n",
    "x = sp.Symbol('x')\n",
    "I = eye(M.shape[0])\n",
    "\n",
    "#Giai da thuc dac trung \n",
    "M_dactrung = M-I*x\n",
    "roots = sp.solve(M_dactrung.det())\n",
    "\n",
    "P = Matrix() # P cuoi\n",
    "D = [] # D cuoi\n",
    "\n",
    "\n",
    "#Ung voi moi tri rieng, ta tim vector rieng, ta duoc P, dong thoi tuong ung co D\n",
    "for i in roots:\n",
    "    temp = M_dactrung.subs({x:i}).nullspace()\n",
    "    for j in range(len(temp)):\n",
    "        D.append(i)\n",
    "        P = P.col_insert(1,temp[j])\n",
    "D = Matrix(np.diag(D))\n",
    "P,D"
   ]
  },
  {
   "cell_type": "markdown",
   "id": "179bfaf4",
   "metadata": {},
   "source": [
    "- Cách tính ${{M}^{99}}$\n",
    "- Từ $D = P^{-1}AP$, ta suy ra $M = PDP^{-1}$\n",
    "- Suy ra ${{M}^{99}}$ = $M = PD^{99}P^{-1}$\n",
    "- Vì $D$ là ma trận đường chéo, nên tính $D^{99}$ nhanh hơn nhiều so với ${{M}^{99}}$"
   ]
  },
  {
   "cell_type": "code",
   "execution_count": 26,
   "id": "9d109e03",
   "metadata": {},
   "outputs": [
    {
     "data": {
      "text/latex": [
       "$\\displaystyle \\left[\\begin{matrix}633825300114114700748351602688 & 171792506910670443044995076474425723485684237979 & -343585013821340886089990152948851446971368475958\\\\0 & 171792506910670443678820376588540424234035840667 & 0\\\\0 & 0 & 171792506910670443678820376588540424234035840667\\end{matrix}\\right]$"
      ],
      "text/plain": [
       "Matrix([\n",
       "[633825300114114700748351602688, 171792506910670443044995076474425723485684237979, -343585013821340886089990152948851446971368475958],\n",
       "[                             0, 171792506910670443678820376588540424234035840667,                                                 0],\n",
       "[                             0,                                                0,  171792506910670443678820376588540424234035840667]])"
      ]
     },
     "execution_count": 26,
     "metadata": {},
     "output_type": "execute_result"
    }
   ],
   "source": [
    "#Backup\n",
    "P1 = P\n",
    "D1 = D\n",
    "D_99 = D1**99\n",
    "M_99 = P1*D_99*P1.inv()\n",
    "M_99"
   ]
  },
  {
   "cell_type": "markdown",
   "id": "5f0ebe0a",
   "metadata": {},
   "source": [
    "* b) Ma trận chéo hóa $D$ của $M$ luôn không đổi với mọi giá trị $a$ tùy ý, hãy kiểm chứng với vài giá trị cụ thể của $a$ và giải thích lý do."
   ]
  },
  {
   "cell_type": "code",
   "execution_count": 27,
   "id": "1bde15a8",
   "metadata": {},
   "outputs": [
    {
     "data": {
      "text/plain": [
       "(Matrix([\n",
       " [2, 0, 0],\n",
       " [0, 3, 0],\n",
       " [0, 0, 3]]),\n",
       " Matrix([\n",
       " [2, 0, 0],\n",
       " [0, 3, 0],\n",
       " [0, 0, 3]]),\n",
       " Matrix([\n",
       " [2, 0, 0],\n",
       " [0, 3, 0],\n",
       " [0, 0, 3]]))"
      ]
     },
     "execution_count": 27,
     "metadata": {},
     "output_type": "execute_result"
    }
   ],
   "source": [
    "M1 = Matrix([[2,100,-2],[0,3,0],[0,0,3]])\n",
    "M2 = Matrix([[2,200,-2],[0,3,0],[0,0,3]])\n",
    "M3 = Matrix([[2,-500,-2],[0,3,0],[0,0,3]])\n",
    "P1, D1 = M1.diagonalize()\n",
    "P2, D2 = M2.diagonalize()\n",
    "P3, D3 = M3.diagonalize()\n",
    "D1,D2,D3"
   ]
  },
  {
   "cell_type": "code",
   "execution_count": 28,
   "id": "6b0bf5fe",
   "metadata": {},
   "outputs": [
    {
     "data": {
      "text/plain": [
       "{2: 1, 3: 2}"
      ]
     },
     "execution_count": 28,
     "metadata": {},
     "output_type": "execute_result"
    }
   ],
   "source": [
    "#Giả sử biến của ta là biến x trong ma trận M\n",
    "M = Matrix([[2,x,-2],[0,3,0],[0,0,3]])\n",
    "\n",
    "#Ta giải đa thức đặc trưng của ma trận này\n",
    "x = sp.Symbol('x')\n",
    "I = eye(M.shape[0])\n",
    "\n",
    "M_dactrung = M-I*x\n",
    "\n",
    "#In ra các nghiệm của đa thức đặc trưng dạng : {nghiệm 1: số lần, nghiệm 2: số lần,...}\n",
    "sp.roots(M_dactrung.det())           "
   ]
  },
  {
   "cell_type": "markdown",
   "id": "ed844f2b",
   "metadata": {},
   "source": [
    "- Nhận thấy, nghiệm đa thức đặc trưng (tương ứng với ma trận M với mọi biến a), đều là 2, 3, 3  \n",
    "- Vì vậy nên ma trận chéo hóa D của M với mọi a là không thay đổi"
   ]
  }
 ],
 "metadata": {
  "kernelspec": {
   "display_name": "Python 3 (ipykernel)",
   "language": "python",
   "name": "python3"
  },
  "language_info": {
   "codemirror_mode": {
    "name": "ipython",
    "version": 3
   },
   "file_extension": ".py",
   "mimetype": "text/x-python",
   "name": "python",
   "nbconvert_exporter": "python",
   "pygments_lexer": "ipython3",
   "version": "3.10.5"
  }
 },
 "nbformat": 4,
 "nbformat_minor": 5
}
