{
 "cells": [
  {
   "cell_type": "markdown",
   "id": "91a22738",
   "metadata": {},
   "source": [
    "### 1. numpy"
   ]
  },
  {
   "cell_type": "code",
   "execution_count": 1,
   "id": "ab2fc224",
   "metadata": {},
   "outputs": [],
   "source": [
    "import numpy as np"
   ]
  },
  {
   "cell_type": "code",
   "execution_count": 2,
   "id": "3c6c30ca",
   "metadata": {},
   "outputs": [
    {
     "data": {
      "text/plain": [
       "array([[ 1,  2,  3,  4,  5],\n",
       "       [ 6,  7,  8,  9, 10]])"
      ]
     },
     "execution_count": 2,
     "metadata": {},
     "output_type": "execute_result"
    }
   ],
   "source": [
    "v1 = np.array([1,2,3,4,5,6,7,8,9,10]).reshape(2,5)\n",
    "v1\n"
   ]
  },
  {
   "cell_type": "code",
   "execution_count": 3,
   "id": "6d1864cd",
   "metadata": {},
   "outputs": [
    {
     "data": {
      "text/plain": [
       "array([0.60828082, 0.81537394, 0.47646038, 0.41029434, 0.50990558])"
      ]
     },
     "execution_count": 3,
     "metadata": {},
     "output_type": "execute_result"
    }
   ],
   "source": [
    "np.linspace(0,20,5)\n",
    "np.random.random(5) ##from 0-1"
   ]
  },
  {
   "cell_type": "code",
   "execution_count": 4,
   "id": "13a4e6b3",
   "metadata": {},
   "outputs": [
    {
     "data": {
      "text/plain": [
       "array([[ 0.54030231, -0.41614684, -0.9899925 , -0.65364362,  0.28366219],\n",
       "       [ 0.96017029,  0.75390225, -0.14550003, -0.91113026, -0.83907153]])"
      ]
     },
     "execution_count": 4,
     "metadata": {},
     "output_type": "execute_result"
    }
   ],
   "source": [
    "np.cos(v1) ## Same with np.sin. np .sqrt..."
   ]
  },
  {
   "cell_type": "code",
   "execution_count": 5,
   "id": "36142db3",
   "metadata": {},
   "outputs": [
    {
     "data": {
      "text/plain": [
       "19.621416870348583"
      ]
     },
     "execution_count": 5,
     "metadata": {},
     "output_type": "execute_result"
    }
   ],
   "source": [
    "np.linalg.norm(v1)\n",
    "#Same with np.linalg.inv (np.linalg libray mathematics)\n",
    "#np.linalg.solve(A,b)\n",
    "#np.argmin() --> return indices of the minimum values along an axis"
   ]
  },
  {
   "cell_type": "markdown",
   "id": "07613a83",
   "metadata": {},
   "source": [
    "Gói thư viện numpy.linalg chuyên xử lý các bài toán đại số!!!  \n",
    "Gói hstack, vstack để ghép nối các array với nhau."
   ]
  },
  {
   "cell_type": "code",
   "execution_count": 6,
   "id": "f5617524",
   "metadata": {},
   "outputs": [
    {
     "data": {
      "text/plain": [
       "array([[ 55],\n",
       "       [130]])"
      ]
     },
     "execution_count": 6,
     "metadata": {},
     "output_type": "execute_result"
    }
   ],
   "source": [
    "#multi two vector\n",
    "v2 = np.array([1,2,3,4,5]).reshape(5,-1)\n",
    "v2\n",
    "v1.dot(v2)"
   ]
  },
  {
   "cell_type": "code",
   "execution_count": 7,
   "id": "e86c082c",
   "metadata": {},
   "outputs": [
    {
     "data": {
      "text/plain": [
       "array(['so am', 'so duong', 'so duong', 'so am', 'so duong', 'so am'],\n",
       "      dtype='<U8')"
      ]
     },
     "execution_count": 7,
     "metadata": {},
     "output_type": "execute_result"
    }
   ],
   "source": [
    "scores = np.array([-1, 1, 2, -3, 5, -4])\n",
    "np.select([scores >=0, scores < 0],[\"so duong\", \"so am\"])"
   ]
  },
  {
   "cell_type": "code",
   "execution_count": 8,
   "id": "e5abc78a",
   "metadata": {},
   "outputs": [
    {
     "data": {
      "text/plain": [
       "array([[-1.16666667, -0.33333333,  0.5       ],\n",
       "       [ 0.33333333,  1.66666667, -1.        ],\n",
       "       [ 0.5       , -1.        ,  0.5       ]])"
      ]
     },
     "execution_count": 8,
     "metadata": {},
     "output_type": "execute_result"
    }
   ],
   "source": [
    "D = np.mat([ [3,4], [5,6]])\n",
    "C = np.mat(np.random.random((5,7)))\n",
    "b = np.array([(1+5j, 2j, 3j),(4, 5, 6)])\n",
    "B = np.asmatrix(b)\n",
    "# np.linalg.inv(v1)\n",
    "v3 = np.array([1,2,3,4,5,6,7,8,11]).reshape(3,3)\n",
    "np.linalg.inv(v3)"
   ]
  },
  {
   "cell_type": "code",
   "execution_count": 9,
   "id": "bfb1f126",
   "metadata": {},
   "outputs": [
    {
     "data": {
      "text/plain": [
       "(array([[-1,  3,  2],\n",
       "        [ 0, -2,  1],\n",
       "        [ 1,  5, -2]]),\n",
       " array([[-1,  0,  0],\n",
       "        [ 0, -2,  0],\n",
       "        [ 1,  5, -2]]),\n",
       " array([[-1,  3,  2],\n",
       "        [ 0, -2,  1],\n",
       "        [ 0,  0, -2]]),\n",
       " array([-1, -2, -2]),\n",
       " array([[-1,  0,  0],\n",
       "        [ 0, -2,  0],\n",
       "        [ 0,  0, -2]]))"
      ]
     },
     "execution_count": 9,
     "metadata": {},
     "output_type": "execute_result"
    }
   ],
   "source": [
    "M = np.array([[-1,3,2],[0,-2,1],[1,5,-2]])\n",
    "M_lower = np.tril(M)\n",
    "M_upper = np.triu(M)\n",
    "v_diag = np.diag(M) \n",
    "M_diag = np.diag(v_diag)\n",
    "    \n",
    "M,M_lower, M_upper, v_diag,M_diag\n",
    "# It only take triangle upper, triangle lower, every another number will be equal to 0\n",
    "# Don't have any row operation here\n",
    "\n",
    "#np.diag --> diagonal vector\n",
    "#np.diag(diagonal vector) --> diagonal matrix"
   ]
  },
  {
   "cell_type": "code",
   "execution_count": 10,
   "id": "d6f5a1b8",
   "metadata": {},
   "outputs": [
    {
     "data": {
      "text/plain": [
       "array([[1., 0., 0., 0.],\n",
       "       [0., 1., 0., 0.],\n",
       "       [0., 0., 1., 0.],\n",
       "       [0., 0., 0., 1.]])"
      ]
     },
     "execution_count": 10,
     "metadata": {},
     "output_type": "execute_result"
    }
   ],
   "source": [
    "I2 = np.identity(2)\n",
    "I2\n",
    "#Or you can use with\n",
    "np.eye(4)"
   ]
  },
  {
   "cell_type": "code",
   "execution_count": 11,
   "id": "d3f63f95",
   "metadata": {},
   "outputs": [
    {
     "data": {
      "text/plain": [
       "array([ 1,  5, 10])"
      ]
     },
     "execution_count": 11,
     "metadata": {},
     "output_type": "execute_result"
    }
   ],
   "source": [
    "np.ones(11) \n",
    "#Same with np.zeros\n",
    "#A = np.append(A,np.ones(A.shape[0]).reshape(-1,1),axis=1) (append (use with np.ones() can be very efficient))\n",
    "A=np.array([1,2,3,4,5,6,7,8,10]).reshape(3,-1)\n",
    "A\n",
    "np.matrix.diagonal(A)\n",
    "#I6 = np.identity(6)\n",
    "#np.matrix(np.random.random( (2,2) ) )\n",
    "#np.asmatrix(b)\n",
    "#np.mat\n",
    "#np.matrix_rank"
   ]
  },
  {
   "cell_type": "code",
   "execution_count": 12,
   "id": "3ca095d5",
   "metadata": {},
   "outputs": [],
   "source": [
    "#Null space --> solve system of linear equations\n",
    "#T = np.array([4,0,2,0,2,-2,2,-2,3]).reshape(3,3)\n",
    "#T.nullspace() --> Use in Matrix"
   ]
  },
  {
   "cell_type": "markdown",
   "id": "71fe8ee5",
   "metadata": {},
   "source": [
    "np.allclose() --> Returns True if two arrays are element-wise equal within a tolerance.  \n",
    "np.allclose([1e10,1e-7], [1.00001e10,1e-8]) --> False  \n",
    "np.allclose([1e10,1e-8], [1.00001e10,1e-9]) --> True  \n",
    "np.array_equiv --> Returns True if input arrays are shape consistent and all elements equal.  \n",
    "np.array_equiv([1, 2], [[1, 2], [1, 2]]) --> True  \n",
    "np.array_equiv([1, 2], [[1, 2, 1, 2], [1, 2, 1, 2]]) --> False    \n",
    "\n",
    "numpy.count_nonzero --> Counts the number of non-zero values in the array a.(np.count_nonzero(a))  "
   ]
  },
  {
   "cell_type": "code",
   "execution_count": 13,
   "id": "df059cfa",
   "metadata": {},
   "outputs": [
    {
     "data": {
      "text/plain": [
       "(4, 11)"
      ]
     },
     "execution_count": 13,
     "metadata": {},
     "output_type": "execute_result"
    }
   ],
   "source": [
    "#Example import numpy as np\n",
    "d1 = np.array([1,0,0,1,0,0,0,0,0,1,0])\n",
    "d2 = np.array([0,0,1,0,0,1,0,0,1,1,1])\n",
    "d3 = np.array([1,1,0,0,1,0,1,0,1,1,1])\n",
    "d4 = np.array([1,1,1,1,1,0,2,1,1,2,0])\n",
    "D = np.vstack([d1,d2,d3,d4])\n",
    "# D = np.hstack([d1,d2,d3,d4])\n",
    "\n",
    "D.shape"
   ]
  },
  {
   "cell_type": "code",
   "execution_count": 14,
   "id": "01f30860",
   "metadata": {},
   "outputs": [
    {
     "data": {
      "text/plain": [
       "(array([[-0.24579966, -0.89202823, -0.07818238,  0.05311418, -0.13760949,\n",
       "          0.17100642],\n",
       "        [ 0.28418104, -0.28800027,  0.49015669,  0.06016094,  0.24508497,\n",
       "          0.06931331],\n",
       "        [-0.10319391, -0.07442935, -0.39271387,  0.73051329,  0.33668286,\n",
       "         -0.30260143],\n",
       "        [ 0.37284617, -0.24732729,  0.0707166 ,  0.00845983, -0.10500112,\n",
       "          0.06536428],\n",
       "        [ 0.39877953, -0.04499846, -0.35210076,  0.12819698, -0.12029375,\n",
       "         -0.10808012],\n",
       "        [-0.55170156,  0.00725999,  0.1298552 , -0.13072131,  0.5643476 ,\n",
       "          0.08069595],\n",
       "        [-0.46863875, -0.01295487, -0.03685632, -0.07456186, -0.59737466,\n",
       "         -0.35025207],\n",
       "        [-0.13908185,  0.19615661,  0.49192135,  0.64865179, -0.3206881 ,\n",
       "          0.32013769],\n",
       "        [-0.08242967,  0.11793282, -0.45850474, -0.00267852, -0.06293061,\n",
       "          0.79167832]]),\n",
       " array([[ 2.89684816,  0.57834539,  0.57601181, -0.83099684, -0.09199769,\n",
       "         -0.71833878],\n",
       "        [ 0.        ,  2.68256959,  0.20278684,  0.13045746, -0.10798276,\n",
       "          1.65767105],\n",
       "        [ 0.        ,  0.        , -3.15997371, -0.18488324,  1.89210884,\n",
       "          0.98338827],\n",
       "        [ 0.        ,  0.        ,  0.        , -2.19433463, -1.76227291,\n",
       "         -0.58045467],\n",
       "        [ 0.        ,  0.        ,  0.        ,  0.        ,  2.57672923,\n",
       "          1.86774805],\n",
       "        [ 0.        ,  0.        ,  0.        ,  0.        ,  0.        ,\n",
       "         -1.78330663]]))"
      ]
     },
     "execution_count": 14,
     "metadata": {},
     "output_type": "execute_result"
    }
   ],
   "source": [
    "#np.linalg.qr() --> Compute the qr factorization of a matrix.\n",
    "a = np.random.randn(9, 6)\n",
    "a\n",
    "q, r = np.linalg.qr(a)\n",
    "q,r\n",
    "\n",
    "##When i test, i think that np.linalg.qr() return two parameter \n",
    "#1. Result of factorization matrix\n",
    "#2. Return norm value (number to divide to become factorization matrix)"
   ]
  },
  {
   "cell_type": "code",
   "execution_count": 15,
   "id": "56a6420d",
   "metadata": {},
   "outputs": [
    {
     "data": {
      "text/plain": [
       "array([-2, -7, -6,  8,  5, -4, -3, -9,  0, -9, -6,  7, -7,  4,  6, -2, -2,\n",
       "        2])"
      ]
     },
     "execution_count": 15,
     "metadata": {},
     "output_type": "execute_result"
    }
   ],
   "source": [
    "np.random.randint(-9,9,18) ##From -9-->8 and have 18 elements"
   ]
  },
  {
   "cell_type": "code",
   "execution_count": 1,
   "id": "f514e1c2",
   "metadata": {},
   "outputs": [
    {
     "ename": "NameError",
     "evalue": "name 'np' is not defined",
     "output_type": "error",
     "traceback": [
      "\u001b[1;31m------------------------------------------------------------\u001b[0m",
      "\u001b[1;31mNameError\u001b[0m                  Traceback (most recent call last)",
      "Input \u001b[1;32mIn [1]\u001b[0m, in \u001b[0;36m<cell line: 2>\u001b[1;34m()\u001b[0m\n\u001b[0;32m      1\u001b[0m \u001b[38;5;66;03m#numpy.tril_indices Return the indices for the lower-triangle of an (n, m) array.\u001b[39;00m\n\u001b[1;32m----> 2\u001b[0m nam \u001b[38;5;241m=\u001b[39m \u001b[43mnp\u001b[49m\u001b[38;5;241m.\u001b[39marray([[\u001b[38;5;241m-\u001b[39m\u001b[38;5;241m45\u001b[39m, \u001b[38;5;241m-\u001b[39m\u001b[38;5;241m26\u001b[39m,  \u001b[38;5;241m-\u001b[39m\u001b[38;5;241m7\u001b[39m,  \u001b[38;5;241m-\u001b[39m\u001b[38;5;241m8\u001b[39m],\n\u001b[0;32m      3\u001b[0m        [  \u001b[38;5;241m7\u001b[39m,   \u001b[38;5;241m6\u001b[39m,  \u001b[38;5;241m15\u001b[39m, \u001b[38;5;241m-\u001b[39m\u001b[38;5;241m24\u001b[39m],\n\u001b[0;32m      4\u001b[0m        [\u001b[38;5;241m-\u001b[39m\u001b[38;5;241m17\u001b[39m,  \u001b[38;5;241m-\u001b[39m\u001b[38;5;241m8\u001b[39m, \u001b[38;5;241m-\u001b[39m\u001b[38;5;241m18\u001b[39m,  \u001b[38;5;241m35\u001b[39m],\n\u001b[0;32m      5\u001b[0m        [ \u001b[38;5;241m59\u001b[39m,  \u001b[38;5;241m0\u001b[39m,  \u001b[38;5;241m61\u001b[39m, \u001b[38;5;241m-\u001b[39m\u001b[38;5;241m85\u001b[39m]])\n\u001b[0;32m      6\u001b[0m np\u001b[38;5;241m.\u001b[39mtril_indices(\u001b[38;5;241m4\u001b[39m,k\u001b[38;5;241m=\u001b[39m\u001b[38;5;241m0\u001b[39m) \u001b[38;5;66;03m## --> apply to any of matrix does care about what's matrix you do with\u001b[39;00m\n\u001b[0;32m      7\u001b[0m nam[np\u001b[38;5;241m.\u001b[39mtril_indices(\u001b[38;5;241m4\u001b[39m,k\u001b[38;5;241m=\u001b[39m\u001b[38;5;241m0\u001b[39m)]\n",
      "\u001b[1;31mNameError\u001b[0m: name 'np' is not defined"
     ]
    }
   ],
   "source": [
    "#numpy.tril_indices Return the indices for the lower-triangle of an (n, m) array.\n",
    "nam = np.array([[-45, -26,  -7,  -8],\n",
    "       [  7,   6,  15, -24],\n",
    "       [-17,  -8, -18,  35],\n",
    "       [ 59,  0,  61, -85]])\n",
    "np.tril_indices(4,k=0) ## --> apply to any of matrix does care about what's matrix you do with\n",
    "nam[np.tril_indices(4,k=0)]\n",
    "# nam[nam!=0]\n",
    "\n",
    "#So, it'll be oppisited with np.triu_indices"
   ]
  },
  {
   "cell_type": "code",
   "execution_count": null,
   "id": "f3d4a575",
   "metadata": {},
   "outputs": [],
   "source": [
    "import numpy as np\n",
    "M = np.array([0,1,1,0,1,0,1,1,1,1,0,0,0,1,0,0]).reshape(4,4)\n",
    "M\n",
    "from numpy.linalg import matrix_power\n",
    "matrix_power(M,2)"
   ]
  },
  {
   "cell_type": "code",
   "execution_count": 17,
   "id": "70c5a09a",
   "metadata": {},
   "outputs": [
    {
     "data": {
      "text/plain": [
       "(array([[1., 0.],\n",
       "        [0., 1.]]),\n",
       " array([[1.  , 0.  ],\n",
       "        [0.25, 1.  ]]),\n",
       " array([[0.8  , 0.3  ],\n",
       "        [0.   , 0.625]]))"
      ]
     },
     "execution_count": 17,
     "metadata": {},
     "output_type": "execute_result"
    }
   ],
   "source": [
    "#Matrix A=LU\n",
    "import scipy\n",
    "from scipy.linalg import lu\n",
    "M = np.array([[0.8,0.3],[0.2,0.7]])\n",
    "P,L,U = lu(M)\n",
    "P,L,U"
   ]
  },
  {
   "cell_type": "markdown",
   "id": "c67602f1",
   "metadata": {},
   "source": [
    "### A little about list "
   ]
  },
  {
   "cell_type": "code",
   "execution_count": 18,
   "id": "9d82a0ba",
   "metadata": {},
   "outputs": [
    {
     "data": {
      "text/plain": [
       "<zip at 0x1bfea5a3200>"
      ]
     },
     "execution_count": 18,
     "metadata": {},
     "output_type": "execute_result"
    }
   ],
   "source": [
    "mon_hoc = [\"ToanCC\", \"DSTT\", \"ToanRR\", \"LaptrinhCB\"]\n",
    "thu_tu = [2, 3, 4, 1]\n",
    "diem_so = [10, 9, 8, 7]\n",
    "anh_xa = zip(thu_tu, mon_hoc, diem_so)\n",
    "anh_xa"
   ]
  },
  {
   "cell_type": "code",
   "execution_count": 19,
   "id": "61b5aeb9",
   "metadata": {},
   "outputs": [
    {
     "data": {
      "text/plain": [
       "{(1, 'LaptrinhCB', 7), (2, 'ToanCC', 10), (3, 'DSTT', 9), (4, 'ToanRR', 8)}"
      ]
     },
     "execution_count": 19,
     "metadata": {},
     "output_type": "execute_result"
    }
   ],
   "source": [
    "tap_hop = set(anh_xa)\n",
    "tap_hop"
   ]
  },
  {
   "cell_type": "code",
   "execution_count": 20,
   "id": "3a3b2cbe",
   "metadata": {},
   "outputs": [
    {
     "data": {
      "text/plain": [
       "('ToanRR', 'ToanCC', 'LaptrinhCB', 'DSTT')"
      ]
     },
     "execution_count": 20,
     "metadata": {},
     "output_type": "execute_result"
    }
   ],
   "source": [
    "lay_TT, lay_monhoc, lay_diem = zip(*tap_hop)\n",
    "lay_monhoc"
   ]
  },
  {
   "cell_type": "markdown",
   "id": "907610c7",
   "metadata": {},
   "source": [
    "### Sympy use for symboloic mathematics"
   ]
  },
  {
   "cell_type": "code",
   "execution_count": 21,
   "id": "6140361f",
   "metadata": {},
   "outputs": [],
   "source": [
    " import sympy as sp"
   ]
  },
  {
   "cell_type": "code",
   "execution_count": 22,
   "id": "e09c31a5",
   "metadata": {},
   "outputs": [
    {
     "data": {
      "text/plain": [
       "{x: -2}"
      ]
     },
     "execution_count": 22,
     "metadata": {},
     "output_type": "execute_result"
    }
   ],
   "source": [
    "x = sp.Symbol('x')\n",
    "sp.solve([x+2],[x])"
   ]
  },
  {
   "cell_type": "code",
   "execution_count": 23,
   "id": "691b20f8",
   "metadata": {},
   "outputs": [
    {
     "data": {
      "text/latex": [
       "$\\displaystyle \\frac{x^{3}}{3} + \\frac{x^{2}}{2} + x$"
      ],
      "text/plain": [
       "x**3/3 + x**2/2 + x"
      ]
     },
     "execution_count": 23,
     "metadata": {},
     "output_type": "execute_result"
    }
   ],
   "source": [
    "from sympy import *\n",
    "x = Symbol('x')\n",
    "bt1 = integrate(x**2 + x + 1, x)\n",
    "bt2 = integrate(x/(x**2+2*x+1), x)\n",
    "bt3 = integrate(x**2 * exp(x) * cos(x), x)\n",
    "bt4 = integrate(exp(-x**2)*erf(x), x)\n",
    "bt1"
   ]
  },
  {
   "cell_type": "code",
   "execution_count": 24,
   "id": "bd702adb",
   "metadata": {},
   "outputs": [
    {
     "data": {
      "text/latex": [
       "$\\displaystyle \\frac{k x^{2}}{2}$"
      ],
      "text/plain": [
       "k*x**2/2"
      ]
     },
     "execution_count": 24,
     "metadata": {},
     "output_type": "execute_result"
    }
   ],
   "source": [
    "from sympy import Integral, Symbol\n",
    "x = Symbol('x')\n",
    "k = Symbol('k')\n",
    "Integral(k*x, x).doit()"
   ]
  },
  {
   "cell_type": "code",
   "execution_count": 25,
   "id": "0e6e24ef",
   "metadata": {},
   "outputs": [
    {
     "data": {
      "text/latex": [
       "$\\displaystyle 2 k$"
      ],
      "text/plain": [
       "2*k"
      ]
     },
     "execution_count": 25,
     "metadata": {},
     "output_type": "execute_result"
    }
   ],
   "source": [
    "Integral(k*x, (x, 0, 2)).doit()"
   ]
  },
  {
   "cell_type": "code",
   "execution_count": 26,
   "id": "db6f84eb",
   "metadata": {},
   "outputs": [
    {
     "data": {
      "text/latex": [
       "$\\displaystyle 0$"
      ],
      "text/plain": [
       "0"
      ]
     },
     "execution_count": 26,
     "metadata": {},
     "output_type": "execute_result"
    }
   ],
   "source": [
    "x = Symbol('x')\n",
    "L = Limit(1/x, x, S.Infinity)\n",
    "L.doit()"
   ]
  },
  {
   "cell_type": "code",
   "execution_count": 27,
   "id": "e8c16b9a",
   "metadata": {},
   "outputs": [
    {
     "data": {
      "image/png": "[encoded data removed]",
      "text/plain": [
       "<Figure size 432x288 with 1 Axes>"
      ]
     },
     "metadata": {
      "needs_background": "light"
     },
     "output_type": "display_data"
    },
    {
     "data": {
      "text/plain": [
       "<sympy.plotting.plot.Plot at 0x1bfee038d60>"
      ]
     },
     "execution_count": 27,
     "metadata": {},
     "output_type": "execute_result"
    }
   ],
   "source": [
    "import sympy\n",
    "from sympy import *\n",
    "x = Symbol('x')\n",
    "f = x * sin(1/x)\n",
    "c = Symbol('c')\n",
    "delta = Symbol('delta')\n",
    "c = 0\n",
    "delta = 1/4\n",
    "sympy.plot(f,(x, c - delta, c + delta))"
   ]
  },
  {
   "cell_type": "markdown",
   "id": "28b41b63",
   "metadata": {},
   "source": [
    "##### Function eval in python"
   ]
  },
  {
   "cell_type": "code",
   "execution_count": 28,
   "id": "cc57ea98",
   "metadata": {},
   "outputs": [
    {
     "data": {
      "text/plain": [
       "18"
      ]
     },
     "execution_count": 28,
     "metadata": {},
     "output_type": "execute_result"
    }
   ],
   "source": [
    "chuoitinhtoan = \"a*b+c\"\n",
    "a = 2\n",
    "b = 5\n",
    "c = 8\n",
    "eval(chuoitinhtoan)"
   ]
  },
  {
   "cell_type": "code",
   "execution_count": 29,
   "id": "70bcf04c",
   "metadata": {},
   "outputs": [
    {
     "data": {
      "text/latex": [
       "$\\displaystyle \\left(u + v\\right)^{2}$"
      ],
      "text/plain": [
       "(u + v)**2"
      ]
     },
     "execution_count": 29,
     "metadata": {},
     "output_type": "execute_result"
    }
   ],
   "source": [
    "x = Symbol('x')\n",
    "y = Symbol('y')\n",
    "bieuthuc = x+y\n",
    "thaytheso = bieuthuc.subs({x:10, y:5})\n",
    "##\n",
    "\n",
    "u = Symbol('u')\n",
    "v = Symbol('v')\n",
    "thaythe_tinhtoan = bieuthuc.subs({x:2*u*v, y:u**2+v**2})\n",
    "# thaythe_tinhtoan\n",
    "thaythe_tinhtoan.factor()"
   ]
  },
  {
   "cell_type": "code",
   "execution_count": 30,
   "id": "50e735de",
   "metadata": {},
   "outputs": [
    {
     "data": {
      "text/latex": [
       "$\\displaystyle a^{2}$"
      ],
      "text/plain": [
       "a**2"
      ]
     },
     "execution_count": 30,
     "metadata": {},
     "output_type": "execute_result"
    }
   ],
   "source": [
    "bieuthuc2 = x**2 + y**2\n",
    "u = Symbol('u')\n",
    "v = Symbol('v')\n",
    "a = Symbol('a')\n",
    "from sympy import sin, cos\n",
    "bieuthuc_theo_uv = bieuthuc2.subs({x : a*sin(u), y : a*cos(u)})\n",
    "bieuthuc_theo_uv\n",
    "bieuthuc_theo_uv.simplify()"
   ]
  },
  {
   "cell_type": "code",
   "execution_count": 31,
   "id": "4a876232",
   "metadata": {},
   "outputs": [
    {
     "data": {
      "text/latex": [
       "$\\displaystyle 12$"
      ],
      "text/plain": [
       "12"
      ]
     },
     "execution_count": 31,
     "metadata": {},
     "output_type": "execute_result"
    }
   ],
   "source": [
    "from sympy import Symbol, Derivative\n",
    "t = Symbol('t')\n",
    "st = 5*t**2 + 2*t + 8\n",
    "Derivative(st, t)\n",
    "d = Derivative(st, t)\n",
    "d.doit().subs({t:1})"
   ]
  },
  {
   "cell_type": "code",
   "execution_count": 32,
   "id": "a8f404b1",
   "metadata": {},
   "outputs": [
    {
     "data": {
      "text/latex": [
       "$\\displaystyle -145.568986390582$"
      ],
      "text/plain": [
       "-145.568986390582"
      ]
     },
     "execution_count": 32,
     "metadata": {},
     "output_type": "execute_result"
    }
   ],
   "source": [
    "from sympy import Symbol, solve, Derivative\n",
    "#Also have plot\n",
    "##solve also have in sympy --> solve linear equation\n",
    "#function evalf???\n",
    "x = Symbol('x')\n",
    "f = x**5-30*x**3+50*x\n",
    "d1 = Derivative(f, x).doit()\n",
    "cuctri = solve(d1)\n",
    "A,B,C,D = cuctri\n",
    "d2 = Derivative(d1, x, 2).doit()\n",
    "d2.subs({x:B}).evalf()## --> solve clear value (dont have sqrt or something)\n",
    "# d2.subs({x:C}).evalf()\n",
    "# d2.subs({x:A}).evalf()\n",
    "# d2.subs({x:D}).evalf()"
   ]
  },
  {
   "cell_type": "code",
   "execution_count": 37,
   "id": "5b3836ee",
   "metadata": {},
   "outputs": [
    {
     "data": {
      "text/plain": [
       "(Matrix([\n",
       " [1, 1, -2],\n",
       " [0, 1,  0],\n",
       " [0, 0,  1]]),\n",
       " Matrix([\n",
       " [2, 0, 0],\n",
       " [0, 3, 0],\n",
       " [0, 0, 3]]))"
      ]
     },
     "execution_count": 37,
     "metadata": {},
     "output_type": "execute_result"
    }
   ],
   "source": [
    "#Use for Matrix!!!\n",
    "import sympy as sp\n",
    "from sympy import *\n",
    "M = Matrix([[2,1,-2],[0,3,0],[0,0,3]])\n",
    "P, D = M.diagonalize()\n",
    "P,D\n",
    "##Can use like create M matrix, create identity matrix --> M-I\n",
    "#Then use sp.solve(), Matrix.det()\n",
    "#M.nullspace() --> solve system of linear equations\n",
    "#M.rref() --> return row operation matrix"
   ]
  },
  {
   "cell_type": "markdown",
   "id": "167a0d6b",
   "metadata": {},
   "source": [
    "### Sympy Matrix!!!"
   ]
  },
  {
   "cell_type": "code",
   "execution_count": null,
   "id": "17868ab3",
   "metadata": {},
   "outputs": [],
   "source": [
    "#solve mul equations with symbols\n",
    "from sympy import *\n",
    "a = symbols('a')\n",
    "b = symbols('b')\n",
    "x = np.array([1,2,4,7,9])\n",
    "p = np.array([0.1,a,b,0.2,0.2])\n",
    "##Var = (x**2*p)\n",
    "(x**2).dot(p)\n",
    "solve([4*𝑎+16*𝑏+26.1-7.3,𝑎+𝑏+0.1+0.2+0.2-1],dict=True)\n",
    "#After use it has result {a: 2.23333333333333, b: -1.73333333333333} ?? \n",
    "##convert to fraction?"
   ]
  },
  {
   "cell_type": "code",
   "execution_count": 57,
   "id": "dfff9f51",
   "metadata": {},
   "outputs": [
    {
     "data": {
      "text/latex": [
       "$\\displaystyle \\left[\\begin{matrix}1 & 2 & 3\\\\3 & 2 & 1\\end{matrix}\\right]$"
      ],
      "text/plain": [
       "Matrix([\n",
       "[1, 2, 3],\n",
       "[3, 2, 1]])"
      ]
     },
     "execution_count": 57,
     "metadata": {},
     "output_type": "execute_result"
    }
   ],
   "source": [
    "M = Matrix([[1, 2, 3], [3, 2, 1]])\n",
    "N = Matrix([0, 1, 1])\n",
    "# M,N,M*N\n",
    "# M.shape\n",
    "# shape(M)\n",
    "# M.row(1)\n",
    "# M.col(-1)\n",
    "# M.col_del(0) same with M.row_del(0)\n",
    "# M = M.row_insert(0,Matrix([[0,4,3]])) in sert this row into row 0\n",
    "# Same with col_insert(index_col, matrix need to be inserted)\n",
    "M"
   ]
  },
  {
   "cell_type": "code",
   "execution_count": 102,
   "id": "7ba9ec0a",
   "metadata": {},
   "outputs": [
    {
     "data": {
      "text/plain": [
       "(Matrix([\n",
       " [1/2 + sqrt(5)*I/2, 1/2 - sqrt(5)*I/2],\n",
       " [                1,                 1]]),\n",
       " Matrix([\n",
       " [2 - sqrt(5)*I,             0],\n",
       " [            0, 2 + sqrt(5)*I]]))"
      ]
     },
     "execution_count": 102,
     "metadata": {},
     "output_type": "execute_result"
    }
   ],
   "source": [
    "#Basic operation\n",
    "M = Matrix([[1, 3], [-2, 3]])\n",
    "N = Matrix([[0, 3], [0, 7]])\n",
    "# M,N\n",
    "# M+N\n",
    "# M*N 3*M\n",
    "# M**2 mean M*M\n",
    "# M**-1 (inverse) M.T\n",
    "## How can calculate M^2 (^2 in every elements in this matrix) np.square np arr\n",
    "# M.T\n",
    "# Matrix([[1,2,3]]).shape or Matrix([1,2,3]).shape --> (3,1)\n",
    "# sqrt(M).evalf(),M**2\n",
    "# M.det()\n",
    "# N.nullspace()\n",
    "# N.columnspace()\n",
    "# N.rowspace()\n",
    "\n",
    "P, D = M.diagonalize() ##M = PDP^(-1)\n",
    "P,D"
   ]
  },
  {
   "cell_type": "code",
   "execution_count": 92,
   "id": "5f283552",
   "metadata": {},
   "outputs": [
    {
     "data": {
      "text/latex": [
       "$\\displaystyle \\left[\\begin{matrix}-1 & 0 & 0 & 0\\\\0 & 1 & 1 & 0\\\\0 & 1 & 1 & 0\\\\0 & 0 & 0 & 5\\\\0 & 0 & 0 & 7\\\\0 & 0 & 0 & 5\\end{matrix}\\right]$"
      ],
      "text/plain": [
       "Matrix([\n",
       "[-1, 0, 0, 0],\n",
       "[ 0, 1, 1, 0],\n",
       "[ 0, 1, 1, 0],\n",
       "[ 0, 0, 0, 5],\n",
       "[ 0, 0, 0, 7],\n",
       "[ 0, 0, 0, 5]])"
      ]
     },
     "execution_count": 92,
     "metadata": {},
     "output_type": "execute_result"
    }
   ],
   "source": [
    "# eye(4)\n",
    "# zeros(2,3)\n",
    "# ones(3,2)\n",
    "# diag(1,2,3)\n",
    "diag(-1,ones(2,2),Matrix([5,7,5]))"
   ]
  },
  {
   "cell_type": "markdown",
   "id": "6c8b8df2",
   "metadata": {},
   "source": [
    "### Library Scipy"
   ]
  },
  {
   "cell_type": "code",
   "execution_count": 103,
   "id": "410e27d4",
   "metadata": {},
   "outputs": [],
   "source": [
    "import scipy as sp\n",
    "#Scipy.linalg: xu ly cac thuat toan dai so\n",
    "#Scipy.sparse: xu ly cac bai toan ve gia tri rieng thua\n",
    "#sp.linalg.lu in scipy!!!\n",
    "#linalg.inv(A) from scipy\n",
    "#from scipy import linalg"
   ]
  },
  {
   "cell_type": "markdown",
   "id": "44a088c8",
   "metadata": {},
   "source": [
    "### Scipy matrix!!!"
   ]
  },
  {
   "cell_type": "code",
   "execution_count": null,
   "id": "d208ae53",
   "metadata": {},
   "outputs": [],
   "source": [
    "#scipy.linalg contain all functions in numpy.linalg\n",
    "#scipy version might be faster depending on how numpy was installed\n",
    "#only different on how using it, np.linalg.func() be replaced by linalg.func()\n",
    "\n"
   ]
  },
  {
   "cell_type": "markdown",
   "id": "b9fe8664",
   "metadata": {},
   "source": [
    "## Coding for gradient_descent example"
   ]
  },
  {
   "cell_type": "code",
   "execution_count": 39,
   "id": "d40a27b8",
   "metadata": {},
   "outputs": [
    {
     "name": "stdout",
     "output_type": "stream",
     "text": [
      "Nhap ham 1 bien (f): x^2\n",
      "Nhap ten bien tuong ung (x): x\n",
      "Nhap gia tri khoi dau cho bien x: 5\n"
     ]
    }
   ],
   "source": [
    "from sympy import Derivative, Symbol, sympify\n",
    "def grad_ascent(x0, ham_f1x, x):\n",
    "    from sympy import solve, E\n",
    "    if not solve(ham_f1x):\n",
    "        print('Khong the tiep tuc, phuong trinh {0}=0 vo nghiem'.format(ham_f1x))\n",
    "    return\n",
    "    # như đoạn mã cũ\n",
    "    epsilon = 1e-6\n",
    "    step_size = 1e-4\n",
    "    x_old = x0\n",
    "    x_new = x_old + step_size*ham_f1x.subs({x:x_old}).evalf()\n",
    "    while abs(x_old - x_new) > epsilon:\n",
    "        x_old = x_new\n",
    "        x_new = x_old + step_size*ham_f1x.subs({x:x_old}).evalf()\n",
    "    \n",
    "    return x_new\n",
    "\n",
    "if __name__ == '__main__':\n",
    "    f = input('Nhap ham 1 bien (f): ')\n",
    "    var = input('Nhap ten bien tuong ung (x): ')\n",
    "    var0 = float(input('Nhap gia tri khoi dau cho bien x: '))\n",
    "    try:\n",
    "        f = sympify(f) # kiem tra ham\n",
    "    except SympifyError:\n",
    "        print('Ham nhap khong hop le!')\n",
    "    else:\n",
    "        var = Symbol(var)\n",
    "        d = Derivative(f, var).doit()\n",
    "        var_max = grad_ascent(var0, d, var)\n",
    "    # thêm lệnh if (nằm trong khối lệnh else) để kiểm tra giá trị var_max trước khi kết luận:\n",
    "    if var_max: \n",
    "        print('{0}: {1}'.format(var.name, var_max))\n",
    "#         print('Maximum value: {0}'.format(f.subs({var:var_max}))"
   ]
  }
 ],
 "metadata": {
  "kernelspec": {
   "display_name": "Python 3 (ipykernel)",
   "language": "python",
   "name": "python3"
  },
  "language_info": {
   "codemirror_mode": {
    "name": "ipython",
    "version": 3
   },
   "file_extension": ".py",
   "mimetype": "text/x-python",
   "name": "python",
   "nbconvert_exporter": "python",
   "pygments_lexer": "ipython3",
   "version": "3.10.5"
  }
 },
 "nbformat": 4,
 "nbformat_minor": 5
}
